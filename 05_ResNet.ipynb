{
 "cells": [
  {
   "cell_type": "code",
   "execution_count": 8,
   "metadata": {},
   "outputs": [],
   "source": [
    "import tensorflow as tf\n",
    "from tensorflow.keras.layers import Conv2D, GlobalAvgPool2D, BatchNormalization, Dense"
   ]
  },
  {
   "cell_type": "markdown",
   "metadata": {},
   "source": [
    "## Network config"
   ]
  },
  {
   "cell_type": "code",
   "execution_count": 2,
   "metadata": {},
   "outputs": [],
   "source": [
    "block_type = {18: 'basic block',\n",
    "             34: 'basic block',\n",
    "             50: 'bottlenect block',\n",
    "             101: 'bottlenect block',\n",
    "             152: 'bottlenect block'}\n",
    "\n",
    "block_num = {18: (2, 2, 2, 2),\n",
    "            34: (3, 4, 6, 3),\n",
    "            50: (3, 4, 6, 3),\n",
    "            101: (3, 4, 23, 3),\n",
    "            152: (3, 4, 36, 3)}\n",
    "\n",
    "filter_num = (64, 128, 256, 512)"
   ]
  },
  {
   "cell_type": "code",
   "execution_count": 11,
   "metadata": {},
   "outputs": [],
   "source": [
    "class BasicBlock(tf.keras.layers.Layer):\n",
    "    def __init__(self, filters, strides=(1, 1), **kwargs):\n",
    "        self.strides = strides\n",
    "        if strides != (1, 1):\n",
    "            self.shortcut = Conv2D(filters, (1, 1), name='projection', padding='same', use_bias=False)\n",
    "            \n",
    "        self.conv_0 = Conv2D(filters, (3, 3), name='conv_0', strides=strides, padding='same', use_bias=False)\n",
    "        self.conv_1 = Conv2D(filters, (3, 3), name='conv_1', padding='same', use_bias=False)\n",
    "        self.bn_0 = BatchNormalizationNormalization(name='bn_0', momentum=0.9, epsilon=1e-5)\n",
    "        self.bn_1 = BatchNormalizationNormalization(name='bn_1', momentum=0.9, epsilon=1e-5)\n",
    "        super(BasicBlock, self).__init__(**kwargs)\n",
    "        \n",
    "        \n",
    "    def call(self, inputs, training):\n",
    "        net = self.bn_0(inputs, training=training)\n",
    "        net = tf.nn.relu(net)\n",
    "        \n",
    "        if self.strides != (1, 1):\n",
    "            shortcut = tf.nn.avg_pool2d(net, ksize=(2, 2), strides=(2, 2), padding='SAME')\n",
    "            shortcut = self.shortcut(shortcut)\n",
    "            \n",
    "        else:\n",
    "            shortcut = inputs\n",
    "            \n",
    "        net = self.conv_0(net)\n",
    "        net = self.bn_1(net, training=training)\n",
    "        net = tf.nn.relu(net)\n",
    "        net = self.conv_1(net)\n",
    "        \n",
    "        output = net + shortcut\n",
    "        return output"
   ]
  },
  {
   "cell_type": "code",
   "execution_count": 15,
   "metadata": {},
   "outputs": [],
   "source": [
    "class BottleneckBlock(tf.keras.layers.Layer):\n",
    "    def __init__(self, filters, strides=(1, 1), projection=False, **kwargs):\n",
    "        self.strides = strides\n",
    "        self.projection = projection\n",
    "        if projection or strides != (1, 1):\n",
    "            self.shortcut = Conv2D(filters, (1, 1), name='projection', padding='same', use_bias=False)\n",
    "            \n",
    "        self.conv_0 = Conv2D(filters, (1, 1), name='conv_0', padding='same', use_bias=False)\n",
    "        self.conv_1 = Conv2D(filters, (3, 3), name='conv_1', strides=strides, padding='same', use_bias=False)\n",
    "        self.conv_2 = Conv2D(filters * 4, (1, 1), name='conv_2', padding='same', use_bias=False)\n",
    "        self.bn_0 = BatchNormalization(name='bn_0', momentum=0.9, epsilon=1e-5)\n",
    "        self.bn_1 = BatchNormalization(name='bn_1', momentum=0.9, epsilon=1e-5)\n",
    "        self.bn_2 = BatchNormalization(name='bn_2', momentum=0.9, epsilon=1e-5)\n",
    "        super(BottleneckBlock, self).__init__(**kwargs)\n",
    "        \n",
    "    def call(self, inputs, training):\n",
    "        net = self.bn_0(inputs, training=training)\n",
    "        net = tf.nn.relu(net)\n",
    "        \n",
    "        if self.projection:\n",
    "            shortcut = self.shortcut(net)\n",
    "        elif self.strides != (1, 1):\n",
    "            shortcut = tf.nn.avg_pool2d(net, ksize=(2, 2), strides=(2, 2), padding='SAME')\n",
    "            shortcut = self.shortcut(shortcut)\n",
    "            \n",
    "        else:\n",
    "            shortcut = inputs\n",
    "            \n",
    "        net = self.conv_0(net)\n",
    "        net = self.bn_1(net, training=training)\n",
    "        net = tf.nn.relu(net)\n",
    "        \n",
    "        net = self.conv_1(net)\n",
    "        net = self.bn_2(net, training=training)\n",
    "        \n",
    "        net = tf.nn.relu(net)\n",
    "        net = self.conv_2(net)\n",
    "        \n",
    "        output = net + shortcut\n",
    "        return output"
   ]
  },
  {
   "cell_type": "code",
   "execution_count": 6,
   "metadata": {},
   "outputs": [],
   "source": [
    "class ResNet(tf.keras.models.Model):\n",
    "    def __init__(self, layer_num, **kwargs):\n",
    "        super(ResNet, self).__init__(**kwargs)\n",
    "        if block_type[layer_num] == 'basic block':\n",
    "            self.block = BasicBlock\n",
    "        else:\n",
    "            self.block = BottleneckBlock\n",
    "            \n",
    "        self.conv0 = Conv2D(64, (7, 7), strides=(2, 2), name='conv0', padding='same', use_bias=False)\n",
    "        \n",
    "        self.block_collector = []\n",
    "        \n",
    "        for layer_index, (b, f) in enumerate(zip(block_num[layer_num], filter_num), start=1):\n",
    "            if layer_index == 1:\n",
    "                if block_type[layer_num] == 'basic block':\n",
    "                    self.block_collector.append(self.block(f, name='con1_0'))\n",
    "                    \n",
    "                else:\n",
    "                    self.block_collector.append(self.block(f, projection=True, name='conv1_0'))\n",
    "            else:\n",
    "                self.block_collector.append(self.block(f, name='conv{}_{}'.format(layer_index, block_index)))\n",
    "                \n",
    "            for block_index in range(1, b):\n",
    "                self.block_collector.append(self.block(f, name='conv{}_{}'.format(layer_index, block_index)))\n",
    "            \n",
    "        self.bn = BatchNormalization(name='bn', momentum=0.9, epsilon=1e-5)\n",
    "        self.global_average_pooling = GlobalAvgPool2D()\n",
    "        self.fc = Dense(1000, name='fully_connected', activation='softmax', use_bias=False)\n",
    "        \n",
    "        \n",
    "    def call(self, inputs, training):\n",
    "        net = self.conv0(inputs)\n",
    "        print('input', inputs.shape)\n",
    "        print('conv0', net.shape)\n",
    "        net = tf.nn.max_pool2d(net, ksize=(3, 3), strides=(2, 2), padding='SAME')\n",
    "        print('max-pooling', net.shape)\n",
    "        \n",
    "        for block in self.block_collector:\n",
    "            net = block(net, training)\n",
    "            print(block.name, net.shape)\n",
    "            \n",
    "        net = self.bn(net, training)\n",
    "        net = tf.nn.relu(net)\n",
    "        \n",
    "        net = self.global_average_pooling(net)\n",
    "        print('global average-pooling', net.shape)\n",
    "        net = self.fc(net)\n",
    "        print('fully connected', net.shape)\n",
    "        \n",
    "        return net"
   ]
  },
  {
   "cell_type": "code",
   "execution_count": 16,
   "metadata": {},
   "outputs": [
    {
     "name": "stdout",
     "output_type": "stream",
     "text": [
      "input (None, 224, 224, 3)\n",
      "conv0 (None, 112, 112, 64)\n",
      "max-pooling (None, 56, 56, 64)\n"
     ]
    },
    {
     "ename": "ValueError",
     "evalue": "in converted code:\n\n    <ipython-input-15-22e9a440276c>:39 call  *\n        output = net + shortcut\n    /usr/local/lib/python3.5/dist-packages/tensorflow_core/python/ops/math_ops.py:899 binary_op_wrapper\n        return func(x, y, name=name)\n    /usr/local/lib/python3.5/dist-packages/tensorflow_core/python/ops/math_ops.py:1197 _add_dispatch\n        return gen_math_ops.add_v2(x, y, name=name)\n    /usr/local/lib/python3.5/dist-packages/tensorflow_core/python/ops/gen_math_ops.py:549 add_v2\n        \"AddV2\", x=x, y=y, name=name)\n    /usr/local/lib/python3.5/dist-packages/tensorflow_core/python/framework/op_def_library.py:793 _apply_op_helper\n        op_def=op_def)\n    /usr/local/lib/python3.5/dist-packages/tensorflow_core/python/framework/func_graph.py:548 create_op\n        compute_device)\n    /usr/local/lib/python3.5/dist-packages/tensorflow_core/python/framework/ops.py:3429 _create_op_internal\n        op_def=op_def)\n    /usr/local/lib/python3.5/dist-packages/tensorflow_core/python/framework/ops.py:1773 __init__\n        control_input_ops)\n    /usr/local/lib/python3.5/dist-packages/tensorflow_core/python/framework/ops.py:1613 _create_c_op\n        raise ValueError(str(e))\n\n    ValueError: Dimensions must be equal, but are 256 and 64 for 'conv1_0/add' (op: 'AddV2') with input shapes: [?,56,56,256], [?,56,56,64].\n",
     "output_type": "error",
     "traceback": [
      "\u001b[0;31m---------------------------------------------------------------------------\u001b[0m",
      "\u001b[0;31mValueError\u001b[0m                                Traceback (most recent call last)",
      "\u001b[0;32m<ipython-input-16-40a1b6e86edf>\u001b[0m in \u001b[0;36m<module>\u001b[0;34m\u001b[0m\n\u001b[1;32m      1\u001b[0m \u001b[0;32mif\u001b[0m \u001b[0m__name__\u001b[0m \u001b[0;34m==\u001b[0m \u001b[0;34m\"__main__\"\u001b[0m\u001b[0;34m:\u001b[0m\u001b[0;34m\u001b[0m\u001b[0m\n\u001b[1;32m      2\u001b[0m     \u001b[0mmodel\u001b[0m \u001b[0;34m=\u001b[0m \u001b[0mResNet\u001b[0m\u001b[0;34m(\u001b[0m\u001b[0;36m152\u001b[0m\u001b[0;34m)\u001b[0m\u001b[0;34m\u001b[0m\u001b[0m\n\u001b[0;32m----> 3\u001b[0;31m     \u001b[0mmodel\u001b[0m\u001b[0;34m.\u001b[0m\u001b[0mbuild\u001b[0m\u001b[0;34m(\u001b[0m\u001b[0minput_shape\u001b[0m\u001b[0;34m=\u001b[0m\u001b[0;34m(\u001b[0m\u001b[0;32mNone\u001b[0m\u001b[0;34m,\u001b[0m \u001b[0;36m224\u001b[0m\u001b[0;34m,\u001b[0m \u001b[0;36m224\u001b[0m\u001b[0;34m,\u001b[0m \u001b[0;36m3\u001b[0m\u001b[0;34m)\u001b[0m\u001b[0;34m)\u001b[0m\u001b[0;34m\u001b[0m\u001b[0m\n\u001b[0m",
      "\u001b[0;32m/usr/local/lib/python3.5/dist-packages/tensorflow_core/python/keras/engine/network.py\u001b[0m in \u001b[0;36mbuild\u001b[0;34m(self, input_shape)\u001b[0m\n\u001b[1;32m    671\u001b[0m                            'method accepts an `inputs` argument.')\n\u001b[1;32m    672\u001b[0m         \u001b[0;32mtry\u001b[0m\u001b[0;34m:\u001b[0m\u001b[0;34m\u001b[0m\u001b[0m\n\u001b[0;32m--> 673\u001b[0;31m           \u001b[0mself\u001b[0m\u001b[0;34m.\u001b[0m\u001b[0mcall\u001b[0m\u001b[0;34m(\u001b[0m\u001b[0mx\u001b[0m\u001b[0;34m,\u001b[0m \u001b[0;34m**\u001b[0m\u001b[0mkwargs\u001b[0m\u001b[0;34m)\u001b[0m\u001b[0;34m\u001b[0m\u001b[0m\n\u001b[0m\u001b[1;32m    674\u001b[0m         \u001b[0;32mexcept\u001b[0m \u001b[0;34m(\u001b[0m\u001b[0merrors\u001b[0m\u001b[0;34m.\u001b[0m\u001b[0mInvalidArgumentError\u001b[0m\u001b[0;34m,\u001b[0m \u001b[0mTypeError\u001b[0m\u001b[0;34m)\u001b[0m\u001b[0;34m:\u001b[0m\u001b[0;34m\u001b[0m\u001b[0m\n\u001b[1;32m    675\u001b[0m           raise ValueError('You cannot build your model by calling `build` '\n",
      "\u001b[0;32m<ipython-input-6-93613e7698ba>\u001b[0m in \u001b[0;36mcall\u001b[0;34m(self, inputs, training)\u001b[0m\n\u001b[1;32m     37\u001b[0m \u001b[0;34m\u001b[0m\u001b[0m\n\u001b[1;32m     38\u001b[0m         \u001b[0;32mfor\u001b[0m \u001b[0mblock\u001b[0m \u001b[0;32min\u001b[0m \u001b[0mself\u001b[0m\u001b[0;34m.\u001b[0m\u001b[0mblock_collector\u001b[0m\u001b[0;34m:\u001b[0m\u001b[0;34m\u001b[0m\u001b[0m\n\u001b[0;32m---> 39\u001b[0;31m             \u001b[0mnet\u001b[0m \u001b[0;34m=\u001b[0m \u001b[0mblock\u001b[0m\u001b[0;34m(\u001b[0m\u001b[0mnet\u001b[0m\u001b[0;34m,\u001b[0m \u001b[0mtraining\u001b[0m\u001b[0;34m)\u001b[0m\u001b[0;34m\u001b[0m\u001b[0m\n\u001b[0m\u001b[1;32m     40\u001b[0m             \u001b[0mprint\u001b[0m\u001b[0;34m(\u001b[0m\u001b[0mblock\u001b[0m\u001b[0;34m.\u001b[0m\u001b[0mname\u001b[0m\u001b[0;34m,\u001b[0m \u001b[0mnet\u001b[0m\u001b[0;34m.\u001b[0m\u001b[0mshape\u001b[0m\u001b[0;34m)\u001b[0m\u001b[0;34m\u001b[0m\u001b[0m\n\u001b[1;32m     41\u001b[0m \u001b[0;34m\u001b[0m\u001b[0m\n",
      "\u001b[0;32m/usr/local/lib/python3.5/dist-packages/tensorflow_core/python/keras/engine/base_layer.py\u001b[0m in \u001b[0;36m__call__\u001b[0;34m(self, inputs, *args, **kwargs)\u001b[0m\n\u001b[1;32m    845\u001b[0m                     \u001b[0moutputs\u001b[0m \u001b[0;34m=\u001b[0m \u001b[0mbase_layer_utils\u001b[0m\u001b[0;34m.\u001b[0m\u001b[0mmark_as_return\u001b[0m\u001b[0;34m(\u001b[0m\u001b[0moutputs\u001b[0m\u001b[0;34m,\u001b[0m \u001b[0macd\u001b[0m\u001b[0;34m)\u001b[0m\u001b[0;34m\u001b[0m\u001b[0m\n\u001b[1;32m    846\u001b[0m                 \u001b[0;32melse\u001b[0m\u001b[0;34m:\u001b[0m\u001b[0;34m\u001b[0m\u001b[0m\n\u001b[0;32m--> 847\u001b[0;31m                   \u001b[0moutputs\u001b[0m \u001b[0;34m=\u001b[0m \u001b[0mcall_fn\u001b[0m\u001b[0;34m(\u001b[0m\u001b[0mcast_inputs\u001b[0m\u001b[0;34m,\u001b[0m \u001b[0;34m*\u001b[0m\u001b[0margs\u001b[0m\u001b[0;34m,\u001b[0m \u001b[0;34m**\u001b[0m\u001b[0mkwargs\u001b[0m\u001b[0;34m)\u001b[0m\u001b[0;34m\u001b[0m\u001b[0m\n\u001b[0m\u001b[1;32m    848\u001b[0m \u001b[0;34m\u001b[0m\u001b[0m\n\u001b[1;32m    849\u001b[0m             \u001b[0;32mexcept\u001b[0m \u001b[0merrors\u001b[0m\u001b[0;34m.\u001b[0m\u001b[0mOperatorNotAllowedInGraphError\u001b[0m \u001b[0;32mas\u001b[0m \u001b[0me\u001b[0m\u001b[0;34m:\u001b[0m\u001b[0;34m\u001b[0m\u001b[0m\n",
      "\u001b[0;32m/usr/local/lib/python3.5/dist-packages/tensorflow_core/python/autograph/impl/api.py\u001b[0m in \u001b[0;36mwrapper\u001b[0;34m(*args, **kwargs)\u001b[0m\n\u001b[1;32m    235\u001b[0m       \u001b[0;32mexcept\u001b[0m \u001b[0mException\u001b[0m \u001b[0;32mas\u001b[0m \u001b[0me\u001b[0m\u001b[0;34m:\u001b[0m  \u001b[0;31m# pylint:disable=broad-except\u001b[0m\u001b[0;34m\u001b[0m\u001b[0m\n\u001b[1;32m    236\u001b[0m         \u001b[0;32mif\u001b[0m \u001b[0mhasattr\u001b[0m\u001b[0;34m(\u001b[0m\u001b[0me\u001b[0m\u001b[0;34m,\u001b[0m \u001b[0;34m'ag_error_metadata'\u001b[0m\u001b[0;34m)\u001b[0m\u001b[0;34m:\u001b[0m\u001b[0;34m\u001b[0m\u001b[0m\n\u001b[0;32m--> 237\u001b[0;31m           \u001b[0;32mraise\u001b[0m \u001b[0me\u001b[0m\u001b[0;34m.\u001b[0m\u001b[0mag_error_metadata\u001b[0m\u001b[0;34m.\u001b[0m\u001b[0mto_exception\u001b[0m\u001b[0;34m(\u001b[0m\u001b[0me\u001b[0m\u001b[0;34m)\u001b[0m\u001b[0;34m\u001b[0m\u001b[0m\n\u001b[0m\u001b[1;32m    238\u001b[0m         \u001b[0;32melse\u001b[0m\u001b[0;34m:\u001b[0m\u001b[0;34m\u001b[0m\u001b[0m\n\u001b[1;32m    239\u001b[0m           \u001b[0;32mraise\u001b[0m\u001b[0;34m\u001b[0m\u001b[0m\n",
      "\u001b[0;31mValueError\u001b[0m: in converted code:\n\n    <ipython-input-15-22e9a440276c>:39 call  *\n        output = net + shortcut\n    /usr/local/lib/python3.5/dist-packages/tensorflow_core/python/ops/math_ops.py:899 binary_op_wrapper\n        return func(x, y, name=name)\n    /usr/local/lib/python3.5/dist-packages/tensorflow_core/python/ops/math_ops.py:1197 _add_dispatch\n        return gen_math_ops.add_v2(x, y, name=name)\n    /usr/local/lib/python3.5/dist-packages/tensorflow_core/python/ops/gen_math_ops.py:549 add_v2\n        \"AddV2\", x=x, y=y, name=name)\n    /usr/local/lib/python3.5/dist-packages/tensorflow_core/python/framework/op_def_library.py:793 _apply_op_helper\n        op_def=op_def)\n    /usr/local/lib/python3.5/dist-packages/tensorflow_core/python/framework/func_graph.py:548 create_op\n        compute_device)\n    /usr/local/lib/python3.5/dist-packages/tensorflow_core/python/framework/ops.py:3429 _create_op_internal\n        op_def=op_def)\n    /usr/local/lib/python3.5/dist-packages/tensorflow_core/python/framework/ops.py:1773 __init__\n        control_input_ops)\n    /usr/local/lib/python3.5/dist-packages/tensorflow_core/python/framework/ops.py:1613 _create_c_op\n        raise ValueError(str(e))\n\n    ValueError: Dimensions must be equal, but are 256 and 64 for 'conv1_0/add' (op: 'AddV2') with input shapes: [?,56,56,256], [?,56,56,64].\n"
     ]
    }
   ],
   "source": [
    "if __name__ == \"__main__\":\n",
    "    model = ResNet(152)\n",
    "    model.build(input_shape=(None, 224, 224, 3))"
   ]
  }
 ],
 "metadata": {
  "kernelspec": {
   "display_name": "Python 3",
   "language": "python",
   "name": "python3"
  },
  "language_info": {
   "codemirror_mode": {
    "name": "ipython",
    "version": 3
   },
   "file_extension": ".py",
   "mimetype": "text/x-python",
   "name": "python",
   "nbconvert_exporter": "python",
   "pygments_lexer": "ipython3",
   "version": "3.5.2"
  }
 },
 "nbformat": 4,
 "nbformat_minor": 2
}
